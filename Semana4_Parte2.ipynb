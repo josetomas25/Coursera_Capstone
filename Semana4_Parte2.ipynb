{
 "cells": [
  {
   "cell_type": "markdown",
   "metadata": {},
   "source": [
    "# Descripcion de los datos,"
   ]
  },
  {
   "cell_type": "markdown",
   "metadata": {},
   "source": [
    "\n",
    "\n",
    "La batalla de los vecindarios,\n",
    "\n",
    "El Link para la obtencion de los datos: https://en.wikipedia.org/wiki/List_of_postal_codes_of_Canada:_M\n",
    "\n",
    "Los datos utilizados seran los de la semana 3, donde se le agrego la latitud y longitud, tambien agregamos los codigos postales.\n",
    "\n",
    "Con la API, podremos recuperar la informacion de los datos de los lugares, como (lugar, barrio, latitud del vecindario y barrio, nombres de los lugares y su categoria"
   ]
  }
 ],
 "metadata": {
  "kernelspec": {
   "display_name": "Python",
   "language": "python",
   "name": "conda-env-python-py"
  },
  "language_info": {
   "codemirror_mode": {
    "name": "ipython",
    "version": 3
   },
   "file_extension": ".py",
   "mimetype": "text/x-python",
   "name": "python",
   "nbconvert_exporter": "python",
   "pygments_lexer": "ipython3",
   "version": "3.6.12"
  }
 },
 "nbformat": 4,
 "nbformat_minor": 4
}
