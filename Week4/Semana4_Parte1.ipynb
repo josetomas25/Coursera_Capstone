{
 "cells": [
  {
   "cell_type": "markdown",
   "metadata": {},
   "source": [
    "# Capstone Project - The Battle of Neighborhoods (Week 1)"
   ]
  },
  {
   "cell_type": "markdown",
   "metadata": {},
   "source": [
    "Introducción:\n",
    "La finalidad de este proyecto es poder ayudar a todas las personas en realizar un analisis sobre los vecindarios, asi tomar una mejor decision.\n",
    "\n",
    "En esta epoca de crisis, pandemia, entre otras, muchas personas estan migrando para obtener un mejor futuro, necesitan realizar una gran investigacion para poder encontrar los mejores precios de (escuelas, departamentos, tiendas, teatros, hospitales, entre otros).\n",
    "\n",
    "Esta propuesta/proyecto, tiene como finalidad, aportar un analisis a las personas que van a realizar este gran paso en su vida, podra ayudar a las familias/personas en conocer el lugar, vecindario, pais, ciudad, para su nueva etapa de vida.\n"
   ]
  },
  {
   "cell_type": "code",
   "execution_count": null,
   "metadata": {},
   "outputs": [],
   "source": []
  },
  {
   "cell_type": "code",
   "execution_count": null,
   "metadata": {},
   "outputs": [],
   "source": [
    "La resolucion del problema es la siguiente:\n",
    "Recomendar a las personas sobre los item ya mencionados, para una mejor toma de decision.\n",
    "Algunos casos:\n",
    "Listas de casas, escuelas, locacion,"
   ]
  },
  {
   "cell_type": "markdown",
   "metadata": {},
   "source": [
    "# API"
   ]
  },
  {
   "cell_type": "markdown",
   "metadata": {},
   "source": [
    "Se utilizara una API llamada \"Foursquare\", para recopilar la informacion necesaria para el proyecto como: (lugares), esta api nos permite realizar busquedas avanzadas como el detalle y ubcaciones de una empresa."
   ]
  },
  {
   "cell_type": "markdown",
   "metadata": {},
   "source": [
    "# Bibliotecas"
   ]
  },
  {
   "cell_type": "markdown",
   "metadata": {},
   "source": [
    "\n",
    "Algunas bibliotecas que usaremos en este proyecto seran: \"Pandas, Folium, XML, JSON, Scikit Learn, Matplotlib, Geocodificador, entre otras\"."
   ]
  },
  {
   "cell_type": "code",
   "execution_count": null,
   "metadata": {},
   "outputs": [],
   "source": []
  }
 ],
 "metadata": {
  "kernelspec": {
   "display_name": "Python",
   "language": "python",
   "name": "conda-env-python-py"
  },
  "language_info": {
   "codemirror_mode": {
    "name": "ipython",
    "version": 3
   },
   "file_extension": ".py",
   "mimetype": "text/x-python",
   "name": "python",
   "nbconvert_exporter": "python",
   "pygments_lexer": "ipython3",
   "version": "3.6.12"
  }
 },
 "nbformat": 4,
 "nbformat_minor": 4
}
